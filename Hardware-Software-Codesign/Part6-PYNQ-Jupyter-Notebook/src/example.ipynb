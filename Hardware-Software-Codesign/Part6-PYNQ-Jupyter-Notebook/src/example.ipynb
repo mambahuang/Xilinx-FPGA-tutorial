{
 "cells": [
  {
   "cell_type": "code",
   "execution_count": null,
   "id": "856a6e30",
   "metadata": {},
   "outputs": [],
   "source": [
    "from pynq import Overlay\n",
    "from pynq.lib import GPIO\n",
    "\n",
    "overlay = Overlay(\"example.bit\")\n",
    "\n",
    "leds = [\n",
    "    GPIO(overlay.ip_dict['gpio_led0'], 'out'),\n",
    "    GPIO(overlay.ip_dict['gpio_led1'], 'out'),\n",
    "    GPIO(overlay.ip_dict['gpio_led2'], 'out'),\n",
    "    GPIO(overlay.ip_dict['gpio_led3'], 'out')\n",
    "]\n"
   ]
  },
  {
   "cell_type": "code",
   "execution_count": null,
   "id": "67336a3b",
   "metadata": {},
   "outputs": [],
   "source": [
    "def display_binary_on_leds(value):\n",
    "    max_bits = len(leds)\n",
    "    value = value & ((1 << max_bits) - 1)\n",
    "\n",
    "    for i in range(max_bits):\n",
    "        bit = (value >> i) & 0x1\n",
    "        leds[i].write(bit)"
   ]
  },
  {
   "cell_type": "code",
   "execution_count": null,
   "id": "f5efe352",
   "metadata": {},
   "outputs": [],
   "source": [
    "while True:\n",
    "    input_value = int(input(\"請輸入一個數字（0-15）: \"))\n",
    "    display_binary_on_leds(input_value)"
   ]
  }
 ],
 "metadata": {
  "kernelspec": {
   "display_name": "base",
   "language": "python",
   "name": "python3"
  },
  "language_info": {
   "name": "python",
   "version": "3.13.5"
  }
 },
 "nbformat": 4,
 "nbformat_minor": 5
}
