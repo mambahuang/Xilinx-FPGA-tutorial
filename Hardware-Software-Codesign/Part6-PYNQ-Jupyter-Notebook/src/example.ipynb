{
 "cells": [
  {
   "cell_type": "code",
   "execution_count": null,
   "id": "856a6e30",
   "metadata": {},
   "outputs": [],
   "source": [
    "from pynq import Overlay\n",
    "from pynq import MMIO\n",
    "overlay = Overlay(\"example.bit\")\n",
    "\n",
    "gpio_ip = overlay.ip_dict['axi_gpio_0']\n",
    "gpio_addr = gpio_ip['phys_addr']\n",
    "gpio_range = gpio_ip['addr_range']\n",
    "\n",
    "\n",
    "mmio = MMIO(gpio_addr, gpio_range)\n",
    "\n",
    "# AXI GPIO Register offset\n",
    "GPIO_DATA_OFFSET = 0x0     # channel1 data register\n",
    "GPIO_TRI_OFFSET  = 0x4     # channel1 direction register\n",
    "\n",
    "mmio.write(GPIO_TRI_OFFSET, 0x0)\n",
    "\n",
    "while True:\n",
    "    num = int(input(\"輸入 0~15 的整數: \"))\n",
    "    mmio.write(GPIO_DATA_OFFSET, num & 0xF)\n"
   ]
  }
 ],
 "metadata": {
  "kernelspec": {
   "display_name": "base",
   "language": "python",
   "name": "python3"
  },
  "language_info": {
   "name": "python",
   "version": "3.13.5"
  }
 },
 "nbformat": 4,
 "nbformat_minor": 5
}
