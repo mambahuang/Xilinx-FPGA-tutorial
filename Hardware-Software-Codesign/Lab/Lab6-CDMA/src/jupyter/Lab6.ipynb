{
 "cells": [
  {
   "cell_type": "code",
   "execution_count": 17,
   "metadata": {
    "scrolled": true
   },
   "outputs": [],
   "source": [
    "from pynq import Overlay\n",
    "from pynq import MMIO\n",
    "import time\n",
    "\n",
    "design = Overlay(\"./Lab3.bit\")"
   ]
  },
  {
   "cell_type": "code",
   "execution_count": 19,
   "metadata": {},
   "outputs": [
    {
     "name": "stdout",
     "output_type": "stream",
     "text": [
      "ans of 40 + 40 = 80\n"
     ]
    }
   ],
   "source": [
    "cdma = MMIO(0x7E200000, 0x10000) # Range = 0x10000 = 2^16 = 64KB\n",
    "\n",
    "ddr = MMIO(0x10000000, 0x4000) # Range = 0x4000 = 2^14 = 16KB\n",
    "\n",
    "bram = MMIO(0xC0000000, 0x4000) # Range = 0x4000 = 2^14 = 16KB\n",
    "\n",
    "# ----------------------------\n",
    "# STEP 1: ARM cpu write data to DDR\n",
    "a = 40\n",
    "b = 40\n",
    "ddr.write(0x00, a)         # Write a to 0x30000000\n",
    "ddr.write(0x04, b)         # Write b to 0x30000004\n",
    "\n",
    "# ----------------------------\n",
    "# STEP 2: CDMA transfers data from DDR to BRAM\n",
    "cdma.write(0x00, 0x04)             # Start CDMA\n",
    "cdma.write(0x18, 0x10000000)       # Source: DDR\n",
    "cdma.write(0x20, 0xC0000000)       # Dest: BRAM\n",
    "cdma.write(0x28, 0x08)             # BTT = 8 bytes (2 word)\n",
    "\n",
    "time.sleep(0.01)                   # Wait for CDMA transfer to complete\n",
    "\n",
    "# ----------------------------\n",
    "# STEP 3: CDMA transfers data from BRAM back to DDR (return result)\n",
    "cdma.write(0x00, 0x04)             # Start CDMA transfer\n",
    "cdma.write(0x18, 0xC000000C)       # Source address: BRAM\n",
    "cdma.write(0x20, 0x1000000C)       # Destination address: DDR\n",
    "cdma.write(0x28, 0x10)             # BTT = 16 bytes (4 words)\n",
    "\n",
    "time.sleep(0.01)                   # Wait for CDMA transfer to complete\n",
    "\n",
    "# ----------------------------\n",
    "# STEP 4: Read the result from DDR (at offset 0x0C)\n",
    "result = ddr.read(0x0C)\n",
    "print(f\"ans of {a} + {b} = {result}\")"
   ]
  }
 ],
 "metadata": {
  "kernelspec": {
   "display_name": "Python 3",
   "language": "python",
   "name": "python3"
  },
  "language_info": {
   "codemirror_mode": {
    "name": "ipython",
    "version": 3
   },
   "file_extension": ".py",
   "mimetype": "text/x-python",
   "name": "python",
   "nbconvert_exporter": "python",
   "pygments_lexer": "ipython3",
   "version": "3.6.5"
  }
 },
 "nbformat": 4,
 "nbformat_minor": 5
}
